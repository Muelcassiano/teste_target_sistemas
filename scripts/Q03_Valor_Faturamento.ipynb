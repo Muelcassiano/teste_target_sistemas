{
 "cells": [
  {
   "cell_type": "markdown",
   "id": "7701f7b0-833e-49f4-9cc4-6385ed4e6bb3",
   "metadata": {},
   "source": [
    "---\n",
    "# <font color='green'>QUESTÃO 3</font>\n",
    "\n",
    "##### Dado um vetor que guarda o valor de faturamento diário de uma distribuidora, faça um programa, na linguagem que desejar, que calcule e retorne:\n",
    "\n",
    "- O menor valor de faturamento ocorrido em um dia do mês;\n",
    "- O maior valor de faturamento ocorrido em um dia do mês;\n",
    "- Número de dias no mês em que o valor de faturamento diário foi superior à média mensal.\n",
    "\n",
    "IMPORTANTE:\n",
    "##### a) Usar o json ou xml disponível como fonte dos dados do faturamento mensal;\n",
    "##### b) Podem existir dias sem faturamento, como nos finais de semana e feriados. Estes dias devem ser ignorados no cálculo da média"
   ]
  },
  {
   "cell_type": "code",
   "execution_count": 4,
   "id": "096c0c6c-77db-41bc-b467-a2142c7ef495",
   "metadata": {},
   "outputs": [
    {
     "name": "stdout",
     "output_type": "stream",
     "text": [
      "Menor valor de faturamento ocorrido em um dia do mês: R$ 373.78\n",
      "Maior valor de faturamento ocorrido em um dia do mês: R$ 48924.24\n",
      "Número de dias com faturamento acima da média mensal: 10\n",
      "\n",
      "- Quantidade de dias com faturamento > 0 = 21 dias\n",
      "- Média mensal considerando apenas os dias com faturamento > 0 = R$ 20865.37\n",
      "- Valores de faturamento de cada um dos 21 dias : \n",
      "['22174.17', '24537.67', '26139.61', '26742.66', '42889.23', '46251.17', '11191.47', '3847.48', '373.78', '2659.76', '48924.24', '18419.26', '35240.18', '43829.17', '18235.69', '4355.07', '13327.10', '25681.83', '1718.12', '13220.50', '8414.61']\n"
     ]
    }
   ],
   "source": [
    "# Importar a biblioteca \"requests\" para fazer o download do arquivo JSON direto do link:\n",
    "import requests\n",
    "# Importar a biblioteca \"json\" para carregar e processar os dados:\n",
    "import json\n",
    "\n",
    "# Gerar URL direta para download do arquivo JSON:\n",
    "url = 'https://drive.google.com/uc?export=download&id=1qXvCPjEL4jerElN-hnScoKkEVmSQ8A2L'\n",
    "\n",
    "# Fazer o download do arquivo JSON:\n",
    "response = requests.get(url)\n",
    "data = response.json()\n",
    "\n",
    "# Filtrar apenas os dias com faturamento > 0:\n",
    "faturamentos = [item['valor'] for item in data if item['valor'] > 0]\n",
    "\n",
    "# Calcular o menor e o maior valor de faturamento:\n",
    "menor_faturamento = min(faturamentos)\n",
    "maior_faturamento = max(faturamentos)\n",
    "\n",
    "# Calcular a média mensal considerando apenas os dias com faturamento > 0:\n",
    "media_mensal = sum(faturamentos) / len(faturamentos)\n",
    "\n",
    "# Contar os dias em que o faturamento foi superior à média mensal:\n",
    "dias_acima_da_media = len([valor for valor in faturamentos if valor > media_mensal])\n",
    "\n",
    "# Exibir os resultados solicitados:\n",
    "print(f\"Menor valor de faturamento ocorrido em um dia do mês: R$ {menor_faturamento:.2f}\")\n",
    "print(f\"Maior valor de faturamento ocorrido em um dia do mês: R$ {maior_faturamento:.2f}\")\n",
    "print(f\"Número de dias com faturamento acima da média mensal: {dias_acima_da_media}\\n\")\n",
    "\n",
    "\n",
    "\n",
    "# Aqui, eu gerei informações adicionais apenas para conferência:\n",
    "print(f\"- Quantidade de dias com faturamento > 0 = {len(faturamentos)} dias\")\n",
    "print(f\"- Média mensal considerando apenas os dias com faturamento > 0 = R$ {media_mensal:.2f}\")\n",
    "\n",
    "# Formatei cada valor da lista para ficar com 2 casas decimais\n",
    "faturamentos_formatados = [f\"{valor:.2f}\" for valor in faturamentos]\n",
    "# Imprimir a lista formatada\n",
    "print(f\"- Valores de faturamento de cada um dos {len(faturamentos)} dias : \\n{faturamentos_formatados}\")\n"
   ]
  }
 ],
 "metadata": {
  "kernelspec": {
   "display_name": "Python 3 (ipykernel)",
   "language": "python",
   "name": "python3"
  },
  "language_info": {
   "codemirror_mode": {
    "name": "ipython",
    "version": 3
   },
   "file_extension": ".py",
   "mimetype": "text/x-python",
   "name": "python",
   "nbconvert_exporter": "python",
   "pygments_lexer": "ipython3",
   "version": "3.12.4"
  }
 },
 "nbformat": 4,
 "nbformat_minor": 5
}
