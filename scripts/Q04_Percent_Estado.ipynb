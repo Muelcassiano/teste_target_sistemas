{
 "cells": [
  {
   "cell_type": "markdown",
   "id": "2a85538f-aab9-418e-a945-b06c3904d1be",
   "metadata": {},
   "source": [
    "---\n",
    "# <font color='green'>QUESTÃO 4</font>\n",
    "##### Dado o valor de faturamento mensal de uma distribuidora, detalhado por estado:\n",
    "\n",
    "- SP – R$67.836,43\n",
    "\n",
    "- RJ – R$36.678,66\n",
    "\n",
    "- MG – R$29.229,88\n",
    "\n",
    "- ES – R$27.165,48\n",
    "\n",
    "- Outros – R$19.849,53\n",
    "\n",
    "##### Escreva um programa na linguagem que desejar onde calcule o percentual de representação que cada estado teve dentro do valor total mensal da distribuidora."
   ]
  },
  {
   "cell_type": "code",
   "execution_count": 2,
   "id": "1f369ab9-9499-4587-9fde-0dd2cfa8e34d",
   "metadata": {},
   "outputs": [
    {
     "name": "stdout",
     "output_type": "stream",
     "text": [
      "SP - 37.53%\n",
      "RJ - 20.29%\n",
      "MG - 16.17%\n",
      "ES - 15.03%\n",
      "Outros - 10.98%\n"
     ]
    }
   ],
   "source": [
    "# Dados de faturamento por estado\n",
    "faturamento_estados = {\"SP\":67836.43, \"RJ\":36678.66, \"MG\":29229.88, \"ES\":27165.48, \"Outros\":19849.53}\n",
    "\n",
    "# Calcular o faturamento total\n",
    "faturamento_total = sum(faturamento_estados.values())\n",
    "\n",
    "# Calcular o percentual representativo de cada estado\n",
    "percentuais = {estado: (valor / faturamento_total) * 100 for estado, valor in faturamento_estados.items()}\n",
    "\n",
    "# Exibir os resultados\n",
    "for estado, percentual in percentuais.items():\n",
    "    print(f\"{estado} - {percentual:.2f}%\")\n"
   ]
  }
 ],
 "metadata": {
  "kernelspec": {
   "display_name": "Python 3 (ipykernel)",
   "language": "python",
   "name": "python3"
  },
  "language_info": {
   "codemirror_mode": {
    "name": "ipython",
    "version": 3
   },
   "file_extension": ".py",
   "mimetype": "text/x-python",
   "name": "python",
   "nbconvert_exporter": "python",
   "pygments_lexer": "ipython3",
   "version": "3.12.4"
  }
 },
 "nbformat": 4,
 "nbformat_minor": 5
}
