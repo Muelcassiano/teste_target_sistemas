{
 "cells": [
  {
   "cell_type": "markdown",
   "id": "d971a90f-7b1c-4aba-a468-8f79d23a5a94",
   "metadata": {},
   "source": [
    "---\n",
    "# <font color='green'>QUESTÃO 1</font>\n",
    "\n",
    "##### Observe o trecho de código abaixo\n",
    "\n",
    "int INDICE = 13, SOMA = 0, K = 0;\n",
    "\n",
    "enquanto K < INDICE faça\n",
    "{\n",
    "\tK = K + 1;\n",
    "\tSOMA = SOMA + K;\n",
    "}\n",
    "\n",
    "imprimir(SOMA);\n",
    "\n",
    "\n",
    "##### Ao final do processamento, qual será o valor da variável SOMA?"
   ]
  },
  {
   "cell_type": "code",
   "execution_count": null,
   "id": "05d981ff-8fbe-4385-b41c-ab20f8ba1fc7",
   "metadata": {},
   "outputs": [],
   "source": [
    "# definir os valores iniciais de \"indice\", \"soma\" e \"k\"\n",
    "indice, soma, k = (13, 0, 0)\n",
    "\n",
    "# enquanto \"k\" for menor que o \"indice\":\n",
    "while k < indice:\n",
    "    # adicione (1) a \"k\" e adicione esse novo \"k\" ao valor \"soma\":\n",
    "    k += 1\n",
    "    soma += k\n",
    "# imprima o resultado final da soma:\n",
    "print(f\"O resultado da variável soma é:\" , soma)"
   ]
  },
  {
   "cell_type": "markdown",
   "id": "2ecfeb4a-5689-4b34-b427-df92feafa62d",
   "metadata": {},
   "source": [
    "---\n",
    "# <font color='green'>QUESTÃO 2</font>\n",
    "\n",
    "##### Dado a sequência de Fibonacci, onde se inicia por 0 e 1 e o próximo valor sempre será a soma dos 2 valores anteriores (exemplo: 0, 1, 1, 2, 3, 5, 8, 13, 21, 34...), escreva um programa na linguagem que desejar onde, informado um número, ele calcule a sequência de Fibonacci e retorne uma mensagem avisando se o número informado pertence ou não a sequência.\n",
    "\n",
    "- IMPORTANTE: Esse número pode ser informado através de qualquer entrada de sua preferência ou pode ser previamente definido no código"
   ]
  },
  {
   "cell_type": "code",
   "execution_count": null,
   "id": "468ee63e-f20d-475f-a21f-495a2768e34d",
   "metadata": {},
   "outputs": [],
   "source": [
    "import math\n",
    "\n",
    "\"\"\"\n",
    "ASPECTO MATEMÁTICO:\n",
    "Um número n pertencerá à sequência de Fibonacci se, e somente se, uma ou ambas as seguintes condições forem verdadeiras:\n",
    "se o resultado de ((5*n^2) + 4) OU ((5*n^2) - 4) forem números perfeitos\n",
    "(suas raízes quadradas resultarem em números inteiros.)\n",
    "\"\"\"\n",
    "\n",
    "# Verificar se x é um número perfeito.\n",
    "def eh_um_numero_perfeito(x):\n",
    "    # Calcula a raiz quadrada de \"x\" e verifica se é um número inteiro: \n",
    "    n_inteiro = int(math.sqrt(x))\n",
    "    return n_inteiro * n_inteiro == x\n",
    "\n",
    "# Verificar se n pertence à sequência de Fibonacci.\n",
    "def eh_fibonacci(n):\n",
    "    return eh_um_numero_perfeito(5 * n * n + 4) or eh_um_numero_perfeito(5 * n * n - 4)\n",
    "\n",
    "# Solicitar que o usuário informe um número:\n",
    "numero = int(input(\"Informe um número: \"))\n",
    "resultado = eh_fibonacci(numero)\n",
    "\n",
    "print(f\"O n° {numero} pertence à sequência de Fibonacci? \\nResposta: {resultado}\")\n"
   ]
  },
  {
   "cell_type": "markdown",
   "id": "2076fb40-f560-4d89-8803-35c7779e0f48",
   "metadata": {},
   "source": [
    "---\n",
    "# <font color='green'>QUESTÃO 3</font>\n",
    "\n",
    "##### Dado um vetor que guarda o valor de faturamento diário de uma distribuidora, faça um programa, na linguagem que desejar, que calcule e retorne:\n",
    "\n",
    "- O menor valor de faturamento ocorrido em um dia do mês;\n",
    "- O maior valor de faturamento ocorrido em um dia do mês;\n",
    "- Número de dias no mês em que o valor de faturamento diário foi superior à média mensal.\n",
    "\n",
    "IMPORTANTE:\n",
    "##### a) Usar o json ou xml disponível como fonte dos dados do faturamento mensal;\n",
    "##### b) Podem existir dias sem faturamento, como nos finais de semana e feriados. Estes dias devem ser ignorados no cálculo da média"
   ]
  },
  {
   "cell_type": "code",
   "execution_count": null,
   "id": "90ce9749-d5a0-4761-8b7e-86dd921f6567",
   "metadata": {},
   "outputs": [],
   "source": [
    "# Importar a biblioteca \"requests\" para fazer o download do arquivo JSON direto do link:\n",
    "import requests\n",
    "# Importar a biblioteca \"json\" para carregar e processar os dados:\n",
    "import json\n",
    "\n",
    "# Gerar URL direta para download do arquivo JSON:\n",
    "url = 'https://drive.google.com/uc?export=download&id=1qXvCPjEL4jerElN-hnScoKkEVmSQ8A2L'\n",
    "\n",
    "# Fazer o download do arquivo JSON:\n",
    "response = requests.get(url)\n",
    "data = response.json()\n",
    "\n",
    "# Filtrar apenas os dias com faturamento > 0:\n",
    "faturamentos = [item['valor'] for item in data if item['valor'] > 0]\n",
    "\n",
    "# Calcular o menor e o maior valor de faturamento:\n",
    "menor_faturamento = min(faturamentos)\n",
    "maior_faturamento = max(faturamentos)\n",
    "\n",
    "# Calcular a média mensal considerando apenas os dias com faturamento > 0:\n",
    "media_mensal = sum(faturamentos) / len(faturamentos)\n",
    "\n",
    "# Contar os dias em que o faturamento foi superior à média mensal:\n",
    "dias_acima_da_media = len([valor for valor in faturamentos if valor > media_mensal])\n",
    "\n",
    "# Exibir os resultados solicitados:\n",
    "print(f\"Menor valor de faturamento ocorrido em um dia do mês: R$ {menor_faturamento:.2f}\")\n",
    "print(f\"Maior valor de faturamento ocorrido em um dia do mês: R$ {maior_faturamento:.2f}\")\n",
    "print(f\"Número de dias com faturamento acima da média mensal: {dias_acima_da_media}\\n\")\n",
    "\n",
    "\n",
    "\n",
    "# Aqui, eu gerei informações adicionais apenas para conferência:\n",
    "print(f\"- Quantidade de dias com faturamento > 0 = {len(faturamentos)} dias\")\n",
    "print(f\"- Média mensal considerando apenas os dias com faturamento > 0 = R$ {media_mensal:.2f}\")\n",
    "\n",
    "# Formatei cada valor da lista para ficar com 2 casas decimais\n",
    "faturamentos_formatados = [f\"{valor:.2f}\" for valor in faturamentos]\n",
    "# Imprimir a lista formatada\n",
    "print(f\"- Valores de faturamento de cada um dos {len(faturamentos)} dias : \\n{faturamentos_formatados}\")\n"
   ]
  },
  {
   "cell_type": "markdown",
   "id": "c2e051cd-6a7b-4855-9efe-d2dfff6c8853",
   "metadata": {},
   "source": [
    "---\n",
    "# <font color='green'>QUESTÃO 4</font>\n",
    "##### Dado o valor de faturamento mensal de uma distribuidora, detalhado por estado:\n",
    "\n",
    "- SP – R$67.836,43\n",
    "\n",
    "- RJ – R$36.678,66\n",
    "\n",
    "- MG – R$29.229,88\n",
    "\n",
    "- ES – R$27.165,48\n",
    "\n",
    "- Outros – R$19.849,53\n",
    "\n",
    "##### Escreva um programa na linguagem que desejar onde calcule o percentual de representação que cada estado teve dentro do valor total mensal da distribuidora."
   ]
  },
  {
   "cell_type": "code",
   "execution_count": null,
   "id": "93c52e0e-b0c0-4d80-b430-febd7f7a8ddc",
   "metadata": {},
   "outputs": [],
   "source": [
    "# Dados de faturamento por estado\n",
    "faturamento_estados = {\"SP\":67836.43, \"RJ\":36678.66, \"MG\":29229.88, \"ES\":27165.48, \"Outros\":19849.53}\n",
    "\n",
    "# Calcular o faturamento total\n",
    "faturamento_total = sum(faturamento_estados.values())\n",
    "\n",
    "# Calcular o percentual representativo de cada estado\n",
    "percentuais = {estado: (valor / faturamento_total) * 100 for estado, valor in faturamento_estados.items()}\n",
    "\n",
    "# Exibir os resultados\n",
    "for estado, percentual in percentuais.items():\n",
    "    print(f\"{estado} - {percentual:.2f}%\")\n"
   ]
  },
  {
   "cell_type": "markdown",
   "id": "05400510-08ee-4231-b718-733bd9ec9114",
   "metadata": {},
   "source": [
    "---\n",
    "# <font color='green'>QUESTÃO 5</font>\n",
    "##### Escreva um programa que inverta os caracteres de um string.\n",
    "\n",
    "- IMPORTANTE:\n",
    "    - a) Essa string pode ser informada através de qualquer entrada de sua preferência ou pode ser previamente definida no código;\n",
    "    - b) Evite usar funções prontas, como, por exemplo, reverse"
   ]
  },
  {
   "cell_type": "code",
   "execution_count": null,
   "id": "86233d3a-0622-4eae-ba19-9a25360faa65",
   "metadata": {},
   "outputs": [],
   "source": [
    "# Criar input para o usuário escrever qualquer palavra\n",
    "caracteres: str = input(\"Digite qualquer palavra: \")\n",
    "# Gerar o caracter da string de forma invertida\n",
    "print(f\"Palavra Invertida: {caracteres [::-1]} \")\n"
   ]
  },
  {
   "cell_type": "markdown",
   "id": "663af020-239b-4b7f-a407-12076bded99f",
   "metadata": {},
   "source": [
    "---\n",
    "## Contato\n",
    "\n",
    "- **Email:** samuel.abreux@gmail.com\n",
    "- **LinkedIn:** [Samuel Abreu](https://www.linkedin.com/in/samuel-a-36959140/)\n",
    "---"
   ]
  }
 ],
 "metadata": {
  "kernelspec": {
   "display_name": "Python 3 (ipykernel)",
   "language": "python",
   "name": "python3"
  },
  "language_info": {
   "codemirror_mode": {
    "name": "ipython",
    "version": 3
   },
   "file_extension": ".py",
   "mimetype": "text/x-python",
   "name": "python",
   "nbconvert_exporter": "python",
   "pygments_lexer": "ipython3",
   "version": "3.12.4"
  }
 },
 "nbformat": 4,
 "nbformat_minor": 5
}
