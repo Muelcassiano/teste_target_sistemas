{
 "cells": [
  {
   "cell_type": "markdown",
   "id": "6a38e60b-ba8a-470f-96ba-0a26fccdbf42",
   "metadata": {},
   "source": [
    "---\n",
    "# <font color='green'>QUESTÃO 5</font>\n",
    "##### Escreva um programa que inverta os caracteres de um string.\n",
    "\n",
    "- IMPORTANTE:\n",
    "    - a) Essa string pode ser informada através de qualquer entrada de sua preferência ou pode ser previamente definida no código;\n",
    "    - b) Evite usar funções prontas, como, por exemplo, reverse"
   ]
  },
  {
   "cell_type": "code",
   "execution_count": 2,
   "id": "51a0abcf-42a9-454e-b5c7-ef6173298b31",
   "metadata": {},
   "outputs": [
    {
     "name": "stdin",
     "output_type": "stream",
     "text": [
      "Digite qualquer palavra:  samuel\n"
     ]
    },
    {
     "name": "stdout",
     "output_type": "stream",
     "text": [
      "Palavra Invertida: leumas \n"
     ]
    }
   ],
   "source": [
    "# Criar input para o usuário escrever qualquer palavra\n",
    "caracteres: str = input(\"Digite qualquer palavra: \")\n",
    "# Gerar o caracter da string de forma invertida\n",
    "print(f\"Palavra Invertida: {caracteres [::-1]} \")\n"
   ]
  }
 ],
 "metadata": {
  "kernelspec": {
   "display_name": "Python 3 (ipykernel)",
   "language": "python",
   "name": "python3"
  },
  "language_info": {
   "codemirror_mode": {
    "name": "ipython",
    "version": 3
   },
   "file_extension": ".py",
   "mimetype": "text/x-python",
   "name": "python",
   "nbconvert_exporter": "python",
   "pygments_lexer": "ipython3",
   "version": "3.12.4"
  }
 },
 "nbformat": 4,
 "nbformat_minor": 5
}
