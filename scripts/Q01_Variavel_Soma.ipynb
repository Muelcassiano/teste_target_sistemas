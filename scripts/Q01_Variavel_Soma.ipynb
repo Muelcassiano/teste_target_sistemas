{
 "cells": [
  {
   "cell_type": "markdown",
   "id": "e3db0a3b-71cc-4d7c-9a4c-538100e1ddee",
   "metadata": {},
   "source": [
    "---\n",
    "# <font color='green'>QUESTÃO 1</font>\n",
    "\n",
    "##### Observe o trecho de código abaixo\n",
    "\n",
    "int INDICE = 13, SOMA = 0, K = 0;\n",
    "\n",
    "enquanto K < INDICE faça\n",
    "{\n",
    "\tK = K + 1;\n",
    "\tSOMA = SOMA + K;\n",
    "}\n",
    "\n",
    "imprimir(SOMA);\n",
    "\n",
    "\n",
    "##### Ao final do processamento, qual será o valor da variável SOMA?"
   ]
  },
  {
   "cell_type": "code",
   "execution_count": 2,
   "id": "fb9306f5-359e-4e6c-8ac1-cb8f11290df7",
   "metadata": {},
   "outputs": [
    {
     "name": "stdout",
     "output_type": "stream",
     "text": [
      "O resultado da variável soma é: 91\n"
     ]
    }
   ],
   "source": [
    "# definir os valores iniciais de \"indice\", \"soma\" e \"k\"\n",
    "indice, soma, k = (13, 0, 0)\n",
    "\n",
    "# enquanto \"k\" for menor que o \"indice\":\n",
    "while k < indice:\n",
    "    # adicione (1) a \"k\" e adicione esse novo \"k\" ao valor \"soma\":\n",
    "    k += 1\n",
    "    soma += k\n",
    "# imprima o resultado final da soma:\n",
    "print(f\"O resultado da variável soma é:\" , soma)"
   ]
  }
 ],
 "metadata": {
  "kernelspec": {
   "display_name": "Python 3 (ipykernel)",
   "language": "python",
   "name": "python3"
  },
  "language_info": {
   "codemirror_mode": {
    "name": "ipython",
    "version": 3
   },
   "file_extension": ".py",
   "mimetype": "text/x-python",
   "name": "python",
   "nbconvert_exporter": "python",
   "pygments_lexer": "ipython3",
   "version": "3.12.4"
  }
 },
 "nbformat": 4,
 "nbformat_minor": 5
}
