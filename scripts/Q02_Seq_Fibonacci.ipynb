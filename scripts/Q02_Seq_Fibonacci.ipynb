{
 "cells": [
  {
   "cell_type": "markdown",
   "id": "6c1570c6-c277-4089-83e6-acf1256d32fb",
   "metadata": {},
   "source": [
    "---\n",
    "# <font color='green'>QUESTÃO 2</font>\n",
    "\n",
    "##### Dado a sequência de Fibonacci, onde se inicia por 0 e 1 e o próximo valor sempre será a soma dos 2 valores anteriores (exemplo: 0, 1, 1, 2, 3, 5, 8, 13, 21, 34...), escreva um programa na linguagem que desejar onde, informado um número, ele calcule a sequência de Fibonacci e retorne uma mensagem avisando se o número informado pertence ou não a sequência.\n",
    "\n",
    "- IMPORTANTE: Esse número pode ser informado através de qualquer entrada de sua preferência ou pode ser previamente definido no código"
   ]
  },
  {
   "cell_type": "code",
   "execution_count": 2,
   "id": "9a0aa5a4-b0a5-4327-aff1-2876a937df21",
   "metadata": {},
   "outputs": [
    {
     "name": "stdin",
     "output_type": "stream",
     "text": [
      "Informe um número:  458612978524\n"
     ]
    },
    {
     "name": "stdout",
     "output_type": "stream",
     "text": [
      "O n° 458612978524 pertence à sequência de Fibonacci? \n",
      "Resposta: False\n"
     ]
    }
   ],
   "source": [
    "import math\n",
    "\n",
    "\"\"\"\n",
    "ASPECTO MATEMÁTICO:\n",
    "Um número n pertencerá à sequência de Fibonacci se, e somente se, uma ou ambas as seguintes condições forem verdadeiras:\n",
    "se o resultado de ((5*n^2) + 4) OU ((5*n^2) - 4) forem números perfeitos\n",
    "(suas raízes quadradas resultarem em números inteiros.)\n",
    "\"\"\"\n",
    "\n",
    "# Verificar se x é um número perfeito.\n",
    "def eh_um_numero_perfeito(x):\n",
    "    # Calcula a raiz quadrada de \"x\" e verifica se é um número inteiro: \n",
    "    n_inteiro = int(math.sqrt(x))\n",
    "    return n_inteiro * n_inteiro == x\n",
    "\n",
    "# Verificar se n pertence à sequência de Fibonacci.\n",
    "def eh_fibonacci(n):\n",
    "    return eh_um_numero_perfeito(5 * n * n + 4) or eh_um_numero_perfeito(5 * n * n - 4)\n",
    "\n",
    "# Solicitar que o usuário informe um número:\n",
    "numero = int(input(\"Informe um número: \"))\n",
    "resultado = eh_fibonacci(numero)\n",
    "\n",
    "print(f\"O n° {numero} pertence à sequência de Fibonacci? \\nResposta: {resultado}\")\n"
   ]
  }
 ],
 "metadata": {
  "kernelspec": {
   "display_name": "Python 3 (ipykernel)",
   "language": "python",
   "name": "python3"
  },
  "language_info": {
   "codemirror_mode": {
    "name": "ipython",
    "version": 3
   },
   "file_extension": ".py",
   "mimetype": "text/x-python",
   "name": "python",
   "nbconvert_exporter": "python",
   "pygments_lexer": "ipython3",
   "version": "3.12.4"
  }
 },
 "nbformat": 4,
 "nbformat_minor": 5
}
